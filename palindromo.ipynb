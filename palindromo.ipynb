{
 "cells": [
  {
   "cell_type": "code",
   "execution_count": null,
   "metadata": {},
   "outputs": [],
   "source": [
    "def verifica_palindromo(palavra):\n",
    "    palavra = palavra.replace(\" \", \"\").lower()\n",
    "    return palavra == palavra[::-1]\n",
    "\n",
    "def main():\n",
    "    palavra = input(\"Digite uma palavra ou frase: \")\n",
    "    if verifica_palindromo(palavra):\n",
    "        print(f\"A palavra/frase '{palavra}' é um palíndromo!\")\n",
    "    else:\n",
    "        print(f\"A palavra/frase '{palavra}' não é um palíndromo!\")\n",
    "\n",
    "if __name__ == \"__main__\":\n",
    "    main()"
   ]
  },
  {
   "cell_type": "code",
   "execution_count": null,
   "metadata": {},
   "outputs": [],
   "source": [
    "def veri_palindromo():\n",
    "    palavra = input(\"Digite uma palavra ou frase: \")\n",
    "    palavra = palavra.replace(\" \", \"\").upper()\n",
    "    if palavra == palavra [::-1]:\n",
    "        print(\"É palindromo\")\n",
    "    else:\n",
    "        print(\"Não é palindromo\")"
   ]
  }
 ],
 "metadata": {
  "language_info": {
   "name": "python"
  },
  "orig_nbformat": 4
 },
 "nbformat": 4,
 "nbformat_minor": 2
}
